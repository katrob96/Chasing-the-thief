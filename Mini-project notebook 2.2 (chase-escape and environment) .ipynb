{
 "cells": [
  {
   "cell_type": "code",
   "execution_count": null,
   "metadata": {},
   "outputs": [],
   "source": [
    "from simulator_interface import open_session, close_session\n",
    "simulator, epuck1, epuck2 = open_session(n_epucks=2)"
   ]
  },
  {
   "cell_type": "code",
   "execution_count": null,
   "metadata": {},
   "outputs": [],
   "source": [
    "close_session(simulator)"
   ]
  },
  {
   "cell_type": "code",
   "execution_count": null,
   "metadata": {},
   "outputs": [],
   "source": [
    "def obstacle_avoidance(robot):\n",
    "    left, right = robot.prox_activations(tracked_objects=[\"20cm\"])\n",
    "    left_wheel = 1 - right\n",
    "    right_wheel = 1 - left   \n",
    "    return left_wheel, right_wheel"
   ]
  },
  {
   "cell_type": "code",
   "execution_count": null,
   "metadata": {},
   "outputs": [],
   "source": [
    "def safe_place_avoidance(robot): \n",
    "    left, right = robot.prox_activations(tracked_objects=[\"Cup\", \"Tree\"])\n",
    "    left_wheel = left\n",
    "    right_wheel = right\n",
    "    return left_wheel,  right_wheel, robot.energy_level"
   ]
  },
  {
   "cell_type": "code",
   "execution_count": null,
   "metadata": {},
   "outputs": [],
   "source": [
    "def towards_safe_place(robot): \n",
    "    left, right = robot.prox_activations(tracked_objects=[\"Tree\"])\n",
    "    left_wheel = 1 - left\n",
    "    right_wheel = 1 - right\n",
    "    return left_wheel, right_wheel, robot.energy_level"
   ]
  },
  {
   "cell_type": "code",
   "execution_count": null,
   "metadata": {},
   "outputs": [],
   "source": [
    "left, right = epuck1.prox_activations(tracked_objects=[\"ePuck\"])\n",
    "print(left, right)"
   ]
  },
  {
   "cell_type": "code",
   "execution_count": null,
   "metadata": {},
   "outputs": [],
   "source": [
    "simulator.start_sphere_apparition(period=20., min_pos=[-1.3, 0.66, 0], max_pos=[-1.1, 0.68, 1])"
   ]
  },
  {
   "cell_type": "code",
   "execution_count": null,
   "metadata": {},
   "outputs": [],
   "source": [
    "def foraging (robot):\n",
    "    left, right = robot.prox_activations(tracked_objects=[\"Sphere\"])\n",
    "    return right, left  "
   ]
  },
  {
   "cell_type": "code",
   "execution_count": null,
   "metadata": {},
   "outputs": [],
   "source": [
    "def energy_drive (robot): \n",
    "    if robot.has_eaten():\n",
    "        robot.energy_level += 0.2  # if the robot has eaten a sphere, increase its energy level by 0.2\n",
    "    else:\n",
    "        robot.energy_level -= 0.01  # otherwise (nothing eaten), decrease the energy level by 0.01\n",
    "    # The line below bounds the value of the energy level between 0 and 1\n",
    "    robot.energy_level = min(1., max(robot.energy_level, 0.))"
   ]
  },
  {
   "cell_type": "code",
   "execution_count": null,
   "metadata": {},
   "outputs": [],
   "source": [
    "epuck1.danger = 0\n",
    "epuck2.danger = 0\n",
    "\n",
    "def alarm_drive (robot):\n",
    "    left, right = robot.prox_activations(tracked_objects=[\"ePuck\"])\n",
    "    if left + right > 0:\n",
    "        robot.danger = left + right \n",
    "    else:\n",
    "        robot.danger = 0\n",
    "    # The line below bounds the value of the robot's danger between 0 and 1\n",
    "    robot.danger = min(1., max(robot.danger, 0.))"
   ]
  },
  {
   "cell_type": "code",
   "execution_count": null,
   "metadata": {},
   "outputs": [],
   "source": [
    "def epuck_log(robot):\n",
    "    # Retrieve the values of the left and right proximeters:\n",
    "    left, right = robot.prox_activations()\n",
    "    \n",
    "    # record the energy level in the topic called \"energy\"\n",
    "    robot.add_log(\"energy\", robot.energy_level)"
   ]
  },
  {
   "cell_type": "code",
   "execution_count": null,
   "metadata": {},
   "outputs": [],
   "source": [
    "def escaping (robot):\n",
    "    if robot.danger > 0:\n",
    "        left, right = robot.prox_activations(tracked_objects=[\"ePuck\"])\n",
    "        return left, right\n",
    "    else:\n",
    "        left, right = robot.prox_activations(tracked_objects=[\"Cup\"])\n",
    "        return right, left, robot.energy_level"
   ]
  },
  {
   "cell_type": "code",
   "execution_count": null,
   "metadata": {},
   "outputs": [],
   "source": [
    "def chasing (robot):\n",
    "    left, right = robot.prox_activations(tracked_objects=[\"ePuck\"])\n",
    "    return right, left, robot.energy_level"
   ]
  },
  {
   "cell_type": "code",
   "execution_count": null,
   "metadata": {},
   "outputs": [],
   "source": [
    "for e in simulator.robots:\n",
    "    e.detach_all_behaviors()\n",
    "    e.attach_behavior(obstacle_avoidance, freq=10)\n",
    "    e.attach_behavior(foraging, freq=10)\n",
    "    e.attach_routine(alarm_drive, freq=1)\n",
    "    e.attach_routine(energy_drive, freq=1)\n",
    "    e.attach_routine(epuck_log, freq=1)\n",
    "    \n",
    "    e.energy_level = 0.5\n",
    "\n",
    "epuck1.attach_behavior(chasing, freq=10)\n",
    "epuck1.attach_behavior(safe_place_avoidance, freq=10)\n",
    "    \n",
    "epuck2.attach_behavior(escaping, freq=10)\n",
    "epuck2.attach_behavior(towards_safe_place, freq=10)\n",
    "\n",
    "\n",
    "\n",
    "for e in simulator.robots:\n",
    "    e.start_all_behaviors()\n",
    "    e.start_all_routines ()"
   ]
  },
  {
   "cell_type": "code",
   "execution_count": null,
   "metadata": {},
   "outputs": [],
   "source": [
    "print(epuck1.energy_level)\n",
    "print(epuck2.energy_level)"
   ]
  },
  {
   "cell_type": "code",
   "execution_count": null,
   "metadata": {},
   "outputs": [],
   "source": [
    "# The line below is mandatory to inform the notebook we want to plot directly in it\n",
    "%pylab inline\n",
    "\n",
    "# Plot the energy levels recorded by `epuck1` and `epuck2`\n",
    "plot(epuck1.get_log(\"energy\"))\n",
    "plot(epuck2.get_log(\"energy\"))\n",
    "legend([\"Police\", \"Thief\"])\n",
    "\n",
    "xlabel(\"Time\")\n",
    "ylabel(\"Energy level\")\n",
    "title(\"Plot of energy level against time\")"
   ]
  },
  {
   "cell_type": "code",
   "execution_count": null,
   "metadata": {},
   "outputs": [],
   "source": []
  }
 ],
 "metadata": {
  "kernelspec": {
   "display_name": "Python 3",
   "language": "python",
   "name": "python3"
  },
  "language_info": {
   "codemirror_mode": {
    "name": "ipython",
    "version": 3
   },
   "file_extension": ".py",
   "mimetype": "text/x-python",
   "name": "python",
   "nbconvert_exporter": "python",
   "pygments_lexer": "ipython3",
   "version": "3.8.3"
  }
 },
 "nbformat": 4,
 "nbformat_minor": 4
}
