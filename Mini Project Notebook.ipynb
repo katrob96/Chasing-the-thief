{
 "cells": [
  {
   "cell_type": "markdown",
   "metadata": {},
   "source": [
    "# Mini Project Notebook"
   ]
  },
  {
   "cell_type": "markdown",
   "metadata": {},
   "source": [
    "## INTRODUCTION"
   ]
  },
  {
   "cell_type": "markdown",
   "metadata": {},
   "source": [
    "### Structure of the team"
   ]
  },
  {
   "cell_type": "markdown",
   "metadata": {},
   "source": [
    "The group members for this project are Martin Alonso, Sena Beste Ercan, Dara El-Shaarawi and Katherine Robles. Instead of assigning roles for the four of us, we have each worked on every component of the project leading up to the final submission. Creating the environment, writing the notebook and coding the robots behaviors were all equally divided into four so that each group member could contribute. We all have basic or minimal knowledge of Python, allowing us to build off of each other's ideas rather than work independently."
   ]
  },
  {
   "cell_type": "markdown",
   "metadata": {},
   "source": [
    "### Scenario and scientific literature"
   ]
  },
  {
   "cell_type": "markdown",
   "metadata": {},
   "source": [
    "We wanted to create a scenario in which **epuck2**, the *thief*, is trying to reach the food source, and **epuck1**, the *police*, tries to prevent this crime from taking place. When the police realizes that the thief is going to steal food from the source, it starts to chase the thief, and the thief starts to run away from the police until it reaches its safe space. In scientific literature, these behaviors can be attributed to the fight-or-flight responses as well as predator-prey behavior.\n",
    "\n",
    "Most species are a part of predator-prey relationships, whether that is by searching for their own sustenance or being victim to it from another (1). Predator-prey behaviors are a foundation of many environments (1) and ignite the fight or flight response in situations of threat. For that reason, understanding these connections offers an approach to replicate these complex behaviors. This has been done in prior robotics research in which robot predators are driven to capture robot prey (2) and their instincts are even leveraged as a mechanism to maintain robots safety (3). Our objective was to simulate these natural behaviors that have been seen in animals and replicated in robotics in a simplistic yet fruitful way. To do so, we have created a scenario that is based off of a ‘human’ interaction that still showcases simple instinctual behaviors found in nature."
   ]
  },
  {
   "cell_type": "markdown",
   "metadata": {},
   "source": [
    "### Details of the environment and the cognitive modelling"
   ]
  },
  {
   "cell_type": "markdown",
   "metadata": {},
   "source": [
    "In the environment, there are two ePucks. One of them represents the police, and the other one represents the thief. Spheres are the food source that the thief will begin to acquire as it travels across the environment. These spheres will serve as energy boosters that increase the thief’s energy and encourage it to run away from the police. The cups and trees serve as a safe place for the thief, in which the police cannot enter.\n",
    "When the energy level is lower, behavior of escaping is weighted so it does not escape "
   ]
  },
  {
   "cell_type": "markdown",
   "metadata": {},
   "source": [
    "## IMPLEMENTATION"
   ]
  },
  {
   "cell_type": "markdown",
   "metadata": {},
   "source": [
    "When the thief is spotted by the police, it will chase the thief. Upon this interaction, the thief will run away from the police. To allow the robots to interact with the environment correctly, obstacle avoidance is attached to both robots, leading them to avoid the walls. However, the ePuck that is playing the role of the police is attached with an obstacle avoidance behavior that includes the cups and trees in the environment. Doing so allows for the thief to run away from the police successfully into an area that the police cannot enter."
   ]
  },
  {
   "cell_type": "markdown",
   "metadata": {},
   "source": [
    "The first step is to connect this Jupyter Notebook to the simulator exceuting the code below:"
   ]
  },
  {
   "cell_type": "code",
   "execution_count": null,
   "metadata": {},
   "outputs": [],
   "source": [
    "from simulator_interface import open_session, close_session\n",
    "simulator, epuck1, epuck2 = open_session(n_epucks=2)"
   ]
  },
  {
   "cell_type": "markdown",
   "metadata": {},
   "source": [
    "The next step is to define all the behaviors and routines:"
   ]
  },
  {
   "cell_type": "code",
   "execution_count": null,
   "metadata": {},
   "outputs": [],
   "source": [
    "# Defining obstacle_avoidance behavior to avoid the walls\n",
    "def obstacle_avoidance(robot):\n",
    "    left, right = robot.prox_activations(tracked_objects=[\"20cm\"])\n",
    "    left_wheel = 1 - right\n",
    "    right_wheel = 1 - left   \n",
    "    return left_wheel, right_wheel\n",
    "\n",
    "# Defining the behavior to avoid to go to the safe place\n",
    "def safe_place_avoidance(robot): \n",
    "    left, right = robot.prox_activations(tracked_objects=[\"Cup\", \"Tree\"])\n",
    "    left_wheel = left\n",
    "    right_wheel = right\n",
    "    return left_wheel,  right_wheel, robot.energy_level\n",
    "\n",
    "# Defining the behavior to go to the safe place\n",
    "def towards_safe_place(robot): \n",
    "    left, right = robot.prox_activations(tracked_objects=[\"Tree\"])\n",
    "    left_wheel = 1 - left\n",
    "    right_wheel = 1 - right\n",
    "    return left_wheel, right_wheel, robot.energy_level"
   ]
  },
  {
   "cell_type": "markdown",
   "metadata": {},
   "source": [
    "The cell below corresponds to the obstacles perceived by the left and right proximeters of the epuck1. The higher the value, the closer the object."
   ]
  },
  {
   "cell_type": "code",
   "execution_count": null,
   "metadata": {},
   "outputs": [],
   "source": [
    "# Storing the values of the left and right proximeters... \n",
    "left, right = epuck1.prox_activations(tracked_objects=[\"ePuck\"])\n",
    "print(left, right)"
   ]
  },
  {
   "cell_type": "markdown",
   "metadata": {},
   "source": [
    "We need spheres appear in the environment:"
   ]
  },
  {
   "cell_type": "code",
   "execution_count": null,
   "metadata": {},
   "outputs": [],
   "source": [
    "# Start sphere apparition in the environment\n",
    "simulator.start_sphere_apparition(period=20., min_pos=[-1.3, 0.66, 0], max_pos=[-1.1, 0.68, 1])"
   ]
  },
  {
   "cell_type": "markdown",
   "metadata": {},
   "source": [
    "Now, once spheres are in the environment, other behaviors and routines are defined according to that:"
   ]
  },
  {
   "cell_type": "code",
   "execution_count": null,
   "metadata": {},
   "outputs": [],
   "source": [
    "# Defining foraging behavior to catch food sources\n",
    "def foraging (robot):\n",
    "    left, right = robot.prox_activations(tracked_objects=[\"Sphere\"])\n",
    "    return right, left\n",
    "\n",
    "# Defining routine in which the ePucks increases/decreases its energy level according to the spheres eaten or not\n",
    "def energy_drive (robot): \n",
    "    if robot.has_eaten():\n",
    "        robot.energy_level += 0.2  # if the robot has eaten a sphere, increase its energy level by 0.2\n",
    "    else:\n",
    "        robot.energy_level -= 0.01  # otherwise (nothing eaten), decrease the energy level by 0.01\n",
    "    # The line below bounds the value of the energy level between 0 and 1\n",
    "    robot.energy_level = min(1., max(robot.energy_level, 0.))\n",
    "\n",
    "# It is necessary to define an initial level of danger of 0 in both of the ePucks\n",
    "epuck1.danger = 0\n",
    "epuck2.danger = 0\n",
    "# Defining a routine to react according to the level of danger\n",
    "def alarm_drive (robot):\n",
    "    left, right = robot.prox_activations(tracked_objects=[\"ePuck\"])\n",
    "    if left + right > 0:\n",
    "        robot.danger = left + right \n",
    "    else:\n",
    "        robot.danger = 0\n",
    "    # The line below bounds the value of the robot's danger between 0 and 1\n",
    "    robot.danger = min(1., max(robot.danger, 0.))\n",
    "\n",
    "# Defining a routine to record energy data\n",
    "def epuck_log(robot):\n",
    "    # Retrieving the values of the left and right proximeters:\n",
    "    left, right = robot.prox_activations()\n",
    "    # Recording the energy level in the topic called \"energy\"\n",
    "    robot.add_log(\"energy\", robot.energy_level)\n",
    "\n",
    "# Defining the chasing behavior for the police\n",
    "def chasing (robot):\n",
    "    left, right = robot.prox_activations(tracked_objects=[\"ePuck\"])\n",
    "    return right, left, robot.energy_level\n",
    "\n",
    "# Defining the running away behavior for the thief\n",
    "def escaping (robot):\n",
    "    if robot.danger > 0:\n",
    "        left, right = robot.prox_activations(tracked_objects=[\"ePuck\"])\n",
    "        return left, right\n",
    "    else:\n",
    "        left, right = robot.prox_activations(tracked_objects=[\"Cup\"])\n",
    "        return right, left, robot.energy_level"
   ]
  },
  {
   "cell_type": "markdown",
   "metadata": {},
   "source": [
    "Then, the behaviors and routines defined above have to be attached to the ePucks:"
   ]
  },
  {
   "cell_type": "code",
   "execution_count": null,
   "metadata": {},
   "outputs": [],
   "source": [
    "for e in simulator.robots:\n",
    "    # First, detach all behaviors in case one is attached to any ePuck\n",
    "    e.detach_all_behaviors()\n",
    "    \n",
    "    # Attaching obstacle_avoidance and foraging behaviors\n",
    "    e.attach_behavior(obstacle_avoidance, freq=10)\n",
    "    e.attach_behavior(foraging, freq=10)\n",
    "    \n",
    "    # Attaching alarm_drive, energy_drive and epuck_log routines\n",
    "    e.attach_routine(alarm_drive, freq=1)\n",
    "    e.attach_routine(energy_drive, freq=1)\n",
    "    e.attach_routine(epuck_log, freq=1)\n",
    "    \n",
    "    # It is necessary to define an initial level of energy before staring routines\n",
    "    e.energy_level = 0.5\n",
    "\n",
    "# ePuck1 = Police. Attaching corresponding behaviors\n",
    "epuck1.attach_behavior(chasing, freq=10)\n",
    "epuck1.attach_behavior(safe_place_avoidance, freq=10)\n",
    "\n",
    "# ePuck2 = Thief. Attaching corresponding behaviors\n",
    "epuck2.attach_behavior(escaping, freq=10)\n",
    "epuck2.attach_behavior(towards_safe_place, freq=10)\n",
    "\n",
    "# Starting all behaviors and routines attached to the ePucks\n",
    "for e in simulator.robots:\n",
    "    e.start_all_behaviors()\n",
    "    e.start_all_routines()"
   ]
  },
  {
   "cell_type": "markdown",
   "metadata": {},
   "source": [
    "Printing the energy levels of both of the ePucks: "
   ]
  },
  {
   "cell_type": "code",
   "execution_count": null,
   "metadata": {},
   "outputs": [],
   "source": [
    "print(epuck1.energy_level)\n",
    "print(epuck2.energy_level)"
   ]
  },
  {
   "cell_type": "markdown",
   "metadata": {},
   "source": [
    "With the code below, the spheres apparition is stopped:"
   ]
  },
  {
   "cell_type": "code",
   "execution_count": null,
   "metadata": {},
   "outputs": [],
   "source": [
    "simulator.stop_sphere_apparition()"
   ]
  },
  {
   "cell_type": "markdown",
   "metadata": {},
   "source": [
    "Execute the cell below to stop all the behaviors and routines attached to the ePucks:"
   ]
  },
  {
   "cell_type": "code",
   "execution_count": null,
   "metadata": {},
   "outputs": [],
   "source": [
    "for e in simulator.robots:\n",
    "    e.stop_all_behaviors()\n",
    "    e.stop_all_routines()\n",
    "    e.detach_all_behaviors()\n",
    "    e.detach_all_routines()\n",
    "    e.stop()"
   ]
  },
  {
   "cell_type": "markdown",
   "metadata": {},
   "source": [
    "Close the simulator session:"
   ]
  },
  {
   "cell_type": "code",
   "execution_count": null,
   "metadata": {},
   "outputs": [],
   "source": [
    "close_session(simulator)"
   ]
  },
  {
   "cell_type": "markdown",
   "metadata": {},
   "source": [
    "## RESULTS"
   ]
  },
  {
   "cell_type": "code",
   "execution_count": null,
   "metadata": {},
   "outputs": [],
   "source": [
    "# The line below is mandatory to inform the notebook we want to plot directly in it\n",
    "%pylab inline\n",
    "\n",
    "# Plot the energy levels recorded by `epuck1` and `epuck2`\n",
    "plot(epuck1.get_log(\"energy\"))\n",
    "plot(epuck2.get_log(\"energy\"))\n",
    "legend([\"Police\", \"Thief\"])\n",
    "\n",
    "xlabel(\"Time\")\n",
    "ylabel(\"Energy level\")\n",
    "title(\"Plot of energy level against time\")"
   ]
  },
  {
   "cell_type": "markdown",
   "metadata": {},
   "source": [
    "Put description of the results here..."
   ]
  },
  {
   "cell_type": "markdown",
   "metadata": {},
   "source": [
    "## DISCUSSION "
   ]
  },
  {
   "cell_type": "markdown",
   "metadata": {},
   "source": [
    "### Summary "
   ]
  },
  {
   "cell_type": "markdown",
   "metadata": {},
   "source": [
    "Overall, the project went smoothly and we were able to succeed in programming the ePucks within our environment to act accordingly. The work accomplished by our team was overall very organized and robust. Once our scenario was created, we began with our environmental design, then proceeded to write and test our code, plot the graphs, then assemble our completed Jupyter Notebook. From the plots, we were able to see…."
   ]
  },
  {
   "cell_type": "markdown",
   "metadata": {},
   "source": [
    "### Limitations "
   ]
  },
  {
   "cell_type": "markdown",
   "metadata": {},
   "source": [
    "There are issues that were encountered during the implementation process. In terms of the code structure, we encountered errors that led us to simplify our code in order to allow it to perform accordingly and run seamlessly. Additionally, some obstacles were encountered in relation to our ePucks behaviors. For example, the behaviors in the robots were only activated if they were in close proximity to one another, leading us to believe that the code was not working. However, this behavior mimicked natural behaviors in the sense that the prey will only chase the predator if it is sensed within the environment. Another limitation in our method was that there was minimal interaction between the thief, police, and the objects around them. For example, the thief was not being able to take what has been stolen to its home but rather the interaction was limited to the thief eating spheres as a representation of a stealing behavior."
   ]
  },
  {
   "cell_type": "markdown",
   "metadata": {},
   "source": [
    "### Possible extensions"
   ]
  },
  {
   "cell_type": "markdown",
   "metadata": {},
   "source": [
    "To resolve our own shortcomings, a possible extension lies within the stealing dynamic to implement a behaviour in which the thief is running away with the sphere, and only be able to “eat” it at its home. It would also be interesting to incorporate behaviors that depended on the other ePucks actions such as accelerating and avoiding obstacles when the robo-cop is perceived by the sensors. Additionally, adding more ePucks to accompany the thief and the police could create more of a storyline and act as rivaling colonies found in nature."
   ]
  },
  {
   "cell_type": "markdown",
   "metadata": {},
   "source": [
    "## REFERENCES"
   ]
  },
  {
   "cell_type": "markdown",
   "metadata": {},
   "source": [
    "[1] Schmitz O. (2017). Predator and prey functional traits: understanding the adaptive machinery driving predator-prey interactions. *F1000Research, 6*, 1767. https://doi.org/10.12688/f1000research.11813.1\n",
    "\n",
    "[2] Mahadevan, K., Somanath, S., & Sharlin, E. (2018, March). \" Fight-or-Flight\" Leveraging Instinctive Human Defensive Behaviors for Safe Human-Robot Interaction. In *Companion of the 2018 ACM/IEEE International Conference on Human-Robot Interaction* (pp. 183-184).\n",
    "\n",
    "[3] Lan, G., Chen, J., & Eiben, A. E. (2019, July). Evolutionary predator-prey robot systems: From simulation to real world. In *Proceedings of the Genetic and Evolutionary Computation Conference Companion* (pp. 123-124)."
   ]
  }
 ],
 "metadata": {
  "kernelspec": {
   "display_name": "Python 3",
   "language": "python",
   "name": "python3"
  },
  "language_info": {
   "codemirror_mode": {
    "name": "ipython",
    "version": 3
   },
   "file_extension": ".py",
   "mimetype": "text/x-python",
   "name": "python",
   "nbconvert_exporter": "python",
   "pygments_lexer": "ipython3",
   "version": "3.8.3"
  }
 },
 "nbformat": 4,
 "nbformat_minor": 1
}
